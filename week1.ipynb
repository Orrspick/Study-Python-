{
 "cells": [
  {
   "cell_type": "markdown",
   "metadata": {},
   "source": [
    "## 파이썬 기본\n",
    "기본 데이터 타입을 배웁니다."
   ]
  },
  {
   "cell_type": "code",
   "execution_count": 3,
   "metadata": {},
   "outputs": [
    {
     "name": "stdout",
     "output_type": "stream",
     "text": [
      "<class 'int'>\n",
      "3\n",
      "4\n",
      "2\n",
      "6\n",
      "9\n",
      "4\n",
      "8\n",
      "<class 'float'>\n",
      "2.5 3.5 5.0 6.25\n"
     ]
    }
   ],
   "source": [
    "#기본 자료형\n",
    "#파이썬은 증감 단항연산자(++,--)가 없다\n",
    "x = 3\n",
    "print(type(x)) # x의 타입 출력\n",
    "print(x)       # 3 출력\n",
    "print(x + 1)   # x + 1 출력\n",
    "print(x - 1)   # x - 1 출력\n",
    "print(x * 2)   # x * 1 출력\n",
    "print(x ** 2)  # x의 제곱 출력\n",
    "x += 1         # x = x + 1\n",
    "print(x)       # 4 출력\n",
    "x *= 2         # x = x * 2\n",
    "print(x)       # 8 출력\n",
    "y = 2.5\n",
    "print(type(y)) # y의 타입 출력\n",
    "print(y, y + 1, y * 2, y ** 2) # y 연산 출력"
   ]
  },
  {
   "cell_type": "code",
   "execution_count": 4,
   "metadata": {},
   "outputs": [
    {
     "name": "stdout",
     "output_type": "stream",
     "text": [
      "<class 'bool'>\n",
      "False\n",
      "True\n",
      "False\n",
      "True\n"
     ]
    }
   ],
   "source": [
    "#불리언 타입형\n",
    "#기호(&&, ||, 등)로 하는것을 영어 단어로 구현되어 있다\n",
    "t = True\n",
    "f = False\n",
    "print(type(t)) # t의 타입 출력\n",
    "print(t and f) # AND 연산 출력\n",
    "print(t or f)  # OR 연산 출력\n",
    "print(not t)   # t의 NOT 연산 출력\n",
    "print(t != f)  # XOR 연산 출력"
   ]
  },
  {
   "cell_type": "code",
   "execution_count": 6,
   "metadata": {},
   "outputs": [
    {
     "name": "stdout",
     "output_type": "stream",
     "text": [
      "hello\n",
      "5\n",
      "hello world\n",
      "hello world 12\n"
     ]
    }
   ],
   "source": [
    "#문자열\n",
    "hello = 'hello' # 문자열\n",
    "world = \"world\" \n",
    "print(hello)     # hello 를 출력\n",
    "print(len(hello)) # 글자수를 출력\n",
    "hw = hello + ' ' + world # 문자열을 합침 \n",
    "print(hw) # hw를 출력합니다.\n",
    "hw12 = '%s %s %d' % (hello, world, 12) # c언어 비슷하게 출력하는데 이때 % 를 넣고 뒤에 어떤것을 출력할지 지정해야함\n",
    "print(hw12)"
   ]
  },
  {
   "cell_type": "code",
   "execution_count": 14,
   "metadata": {
    "scrolled": true
   },
   "outputs": [
    {
     "name": "stdout",
     "output_type": "stream",
     "text": [
      "Hello\n",
      "HELLO\n",
      "hello#####\n",
      "     hello\n",
      "  hello   \n",
      "he(ell)(ell)o\n",
      "world\n"
     ]
    }
   ],
   "source": [
    "#문자열 고급\n",
    "s = \"hello\"\n",
    "print(s.capitalize()) # 맨 앞에 있는 소문자를 대문자화\n",
    "print(s.upper())      # 모든 소문자를 대문자화\n",
    "print(s.ljust(10,'#')) # s의 문자를 왼쪽에 두고 오른쪽에 크기가 10인 문자열을 만들고 #으로 채움\n",
    "print(s.rjust(10))     # s의 문자를 오른쪽에 두고 왼쪽에 크가가 10인 문자열을 만들고 공백화\n",
    "print(s.center(7))    # s의 문자를 가운대에 두고 왼쪽 오른쪽에 크기가 7인 문자열을 만들고 공백화\n",
    "print(s.replace('l', '(ell)')) # 문자를 바꾼다\n",
    "print('    world' .strip())       # 공백 문자열을 모두 삭제한다"
   ]
  },
  {
   "cell_type": "code",
   "execution_count": 15,
   "metadata": {},
   "outputs": [
    {
     "name": "stdout",
     "output_type": "stream",
     "text": [
      "[3, 1, 2] 2\n",
      "2\n",
      "[3, 1, 'foo']\n",
      "[3, 1, 'foo', 'bar']\n",
      "bar [3, 1, 'foo']\n"
     ]
    }
   ],
   "source": [
    "#리스트(List)\n",
    "#리스트는 파이썬에서 배열 같은 존재이지만 배열과 달리 크기변경이 가능\n",
    "#서로 다른 자료형일지라도 하나의 리스트에 저장될 수 있음\n",
    "xs = [3, 1, 2] # 리스트 생성\n",
    "print(xs, xs[2]) #리스트와 2번째 숫자 출력\n",
    "print(xs[-1]) # -는 0번째에서 뒤로 출력되게 한다 -1을 넣으면 2번째 배열 출력\n",
    "xs[2] = 'foo' # 파이썬은 다른 자료형도 에러가 없다\n",
    "print(xs)\n",
    "xs.append('bar') # 리스트 맨 마지막에 'bar'를 추가한다.\n",
    "print(xs)\n",
    "x = xs.pop() # 리스트 맨 마지막을 제거한다.\n",
    "print(x,xs)"
   ]
  },
  {
   "cell_type": "code",
   "execution_count": 19,
   "metadata": {},
   "outputs": [
    {
     "name": "stdout",
     "output_type": "stream",
     "text": [
      "[0, 1, 2, 3, 4]\n",
      "[2, 3]\n",
      "[2, 3, 4]\n",
      "[0, 1]\n",
      "[0, 1, 2, 3, 4]\n",
      "[0, 1, 2, 3]\n",
      "[0, 1, 8, 9, 4]\n"
     ]
    }
   ],
   "source": [
    "#List Slicing(슬라이싱)\n",
    "#Slicing이 의미하듯 리스트를 자르는 특수한 문법\n",
    "nums = list(range(5)) #파이썬에서 간단히 리스트를 만들어주는것을 range 라고 한다\n",
    "print(nums)\n",
    "print(nums[2:4])       # 리스트의 2번째 부터 4번째 까지 출력한다\n",
    "print(nums[2:])        # 리스트의 2번째 부터 끝까지 출력한다\n",
    "print(nums[:2])        # 리스트의 2번째 까지 출력한다\n",
    "print(nums[:])         # 리스트를 출력해라\n",
    "print(nums[:-1])       # 리스트의 4번째까지 출력한다\n",
    "nums[2:4] = [8, 9]     # 리스트의 2번째 부터 4번째 사이에 8,9를 추가한다\n",
    "print(nums)"
   ]
  },
  {
   "cell_type": "code",
   "execution_count": 20,
   "metadata": {},
   "outputs": [
    {
     "name": "stdout",
     "output_type": "stream",
     "text": [
      "cat\n",
      "dog\n",
      "monkey\n"
     ]
    }
   ],
   "source": [
    "#반복문\n",
    "animals = ['cat', 'dog', 'monkey']\n",
    "for animal in animals: # 파이썬에서는 for in 문 한가지 방식의 for문만 지원한다\n",
    "    print(animal)      # animals는 반복할 객체고 animal은 반복의 결과값이다"
   ]
  },
  {
   "cell_type": "code",
   "execution_count": 21,
   "metadata": {},
   "outputs": [
    {
     "name": "stdout",
     "output_type": "stream",
     "text": [
      "#1: cat\n",
      "#2: dog\n",
      "#3: monkey\n"
     ]
    }
   ],
   "source": [
    "#반복문2\n",
    "animals = ['cat', 'dog', 'monkey']\n",
    "for idx, animal in enumerate(animals): # 반복문에서 리스트에서 인덱스에 접근함\n",
    "    print('#%d: %s' %(idx +1, animal))      "
   ]
  },
  {
   "cell_type": "code",
   "execution_count": 22,
   "metadata": {},
   "outputs": [
    {
     "name": "stdout",
     "output_type": "stream",
     "text": [
      "[0]\n",
      "[0, 1]\n",
      "[0, 1, 4]\n",
      "[0, 1, 4, 9]\n",
      "[0, 1, 4, 9, 16]\n"
     ]
    }
   ],
   "source": [
    "#리스트 반복문\n",
    "nums = [0,1,2,3,4]\n",
    "squares = []\n",
    "for x in nums:\n",
    "    squares.append(x ** 2) # x에 있는것을 제곱해서 출력 x = nums의 숫자들\n",
    "    print(squares)"
   ]
  },
  {
   "cell_type": "code",
   "execution_count": 1,
   "metadata": {},
   "outputs": [
    {
     "name": "stdout",
     "output_type": "stream",
     "text": [
      "[0, 1, 4, 9, 16]\n"
     ]
    }
   ],
   "source": [
    "#리스트 Comprehension\n",
    "#리스트 안에서 for 문과 if문을 사용할수 있다\n",
    "nums = [0,1,2,3,4]\n",
    "squares = [x ** 2 for x in nums]\n",
    "print(squares)"
   ]
  },
  {
   "cell_type": "code",
   "execution_count": 3,
   "metadata": {},
   "outputs": [
    {
     "name": "stdout",
     "output_type": "stream",
     "text": [
      "[0, 4, 16]\n"
     ]
    }
   ],
   "source": [
    "#리스트 Comprehension if문 추가\n",
    "nums = [0,1,2,3,4]\n",
    "even_squares = [x ** 2 for x in nums if x % 2 == 0]\n",
    "print(even_squares)"
   ]
  },
  {
   "cell_type": "code",
   "execution_count": 6,
   "metadata": {},
   "outputs": [
    {
     "name": "stdout",
     "output_type": "stream",
     "text": [
      "cute\n",
      "True\n",
      "wet\n",
      "N/A\n",
      "wet\n",
      "N/A\n"
     ]
    }
   ],
   "source": [
    "#딕셔너리(Dictionary)\n",
    "#(열쇠,값)쌍을 지정한다\n",
    "d = {'cat':'cute', 'dog':'furry'}\n",
    "print(d['cat'])    #cute를 출력함\n",
    "print('cat' in d)  #cat이 있을경우 True\n",
    "d['fish'] = 'wet'  #딕셔너리에 fish와 wet을 추가한다 'fish':'wet'\n",
    "print(d['fish'])\n",
    "#print(d['monkey']) #monkey라는 키는 없기 때문에 에러\n",
    "print(d.get('monkey', 'N/A')) # monkey라는 키는 없기 때문에 N/A가 출력된다\n",
    "print(d.get('fish', 'N/A'))   # 위와 반대로 fish 라는 키가 있기 때문에 wet이 출력된다\n",
    "del d['fish'] #fish 를 딕셔너리에서 삭제한다\n",
    "print(d.get('fish', 'N/A')) # 없어졌기 때문에 N/A를 출력한다."
   ]
  },
  {
   "cell_type": "code",
   "execution_count": 1,
   "metadata": {},
   "outputs": [
    {
     "name": "stdout",
     "output_type": "stream",
     "text": [
      "A person has 2 legs\n",
      "A cat has 4 legs\n",
      "A spider has 8 legs\n"
     ]
    }
   ],
   "source": [
    "#딕셔너리 반복문\n",
    "d = {'person' : 2, 'cat' : 4, 'spider' : 8}\n",
    "for animal in d:\n",
    "    legs = d[animal]\n",
    "    print('A %s has %d legs' % (animal, legs))"
   ]
  },
  {
   "cell_type": "code",
   "execution_count": 4,
   "metadata": {},
   "outputs": [
    {
     "name": "stdout",
     "output_type": "stream",
     "text": [
      "A person has 2 legs\n",
      "A cat has 4 legs\n",
      "A spider has 8 legs\n"
     ]
    }
   ],
   "source": [
    "#딕셔너리 반복문2\n",
    "d = {'person' : 2, 'cat' : 4, 'spider' : 8}\n",
    "for animal, legs in d.items():\n",
    "    print('A %s has %d legs' % (animal, legs))\n",
    "    #주로 이쪽을 많이 사용"
   ]
  },
  {
   "cell_type": "code",
   "execution_count": 6,
   "metadata": {},
   "outputs": [
    {
     "name": "stdout",
     "output_type": "stream",
     "text": [
      "{0: 0, 2: 4, 4: 16}\n"
     ]
    }
   ],
   "source": [
    "#딕셔너리 반복문3 리스트 Comprehension 사용\n",
    "nums = [0,1,2,3,4]\n",
    "even_num_to_squares = {x: x ** 2 for x in nums if x % 2 == 0}\n",
    "print(even_num_to_squares)"
   ]
  },
  {
   "cell_type": "code",
   "execution_count": 7,
   "metadata": {},
   "outputs": [
    {
     "name": "stdout",
     "output_type": "stream",
     "text": [
      "True\n",
      "False\n",
      "True\n",
      "3\n",
      "3\n",
      "2\n"
     ]
    }
   ],
   "source": [
    "#set 구조\n",
    "animals = {'cat', 'dog'}\n",
    "print('cat' in animals) # cat가 animals에 있으니 True출력\n",
    "print('fish' in animals) # fish가 animals에 없으니 False출력\n",
    "animals.add('fish') # animals에 fish 추가\n",
    "print('fish' in animals) # 추가되었으니 True 출력\n",
    "print(len(animals)) # animals의 갯수 출력\n",
    "animals.add('cat') # 이미 animals에 cat이 있어 아무반응 없음\n",
    "print(len(animals))\n",
    "animals.remove('cat') #animals에 cat 삭제\n",
    "print(len(animals))"
   ]
  },
  {
   "cell_type": "code",
   "execution_count": 9,
   "metadata": {},
   "outputs": [
    {
     "name": "stdout",
     "output_type": "stream",
     "text": [
      "#1: cat\n",
      "#2: dog\n",
      "#3: fish\n"
     ]
    }
   ],
   "source": [
    "#set 반복문\n",
    "animals = {'cat', 'dog', 'fish'}\n",
    "for idx, animal in enumerate(animals):\n",
    "    print('#%d: %s' % (idx +1, animal))"
   ]
  },
  {
   "cell_type": "code",
   "execution_count": 11,
   "metadata": {},
   "outputs": [
    {
     "name": "stdout",
     "output_type": "stream",
     "text": [
      "{0, 1, 2, 3, 4, 5}\n"
     ]
    }
   ],
   "source": [
    "#집합 Comprehension\n",
    "from math import sqrt  #math는 수학함수로 sqrt는 제곱근을 반환함\n",
    "nums = {int(sqrt(x)) for x in range(30)}\n",
    "print(nums)"
   ]
  },
  {
   "cell_type": "code",
   "execution_count": 12,
   "metadata": {},
   "outputs": [
    {
     "name": "stdout",
     "output_type": "stream",
     "text": [
      "<class 'tuple'>\n",
      "5\n",
      "1\n"
     ]
    }
   ],
   "source": [
    "#튜플(Tuple)\n",
    "#요소간 순서가 있으며 값이 변하지 않는 리스트, 튜플은 많은 면에서 리스트와 유사\n",
    "#중요한 차이점은 딕셔너리의 열쇠와 집홥의 요소가 돨수 있으면 리스트는 불가능함\n",
    "d = {(x, x+1) : x for x in range(10)}\n",
    "t = (5, 6)\n",
    "print(type(t)) #t의 타입 확인\n",
    "print(d[t])\n",
    "print(d[(1,2)])"
   ]
  },
  {
   "cell_type": "code",
   "execution_count": 14,
   "metadata": {},
   "outputs": [
    {
     "name": "stdout",
     "output_type": "stream",
     "text": [
      "negative\n",
      "zero\n",
      "positive\n"
     ]
    }
   ],
   "source": [
    "#펑션(Function)\n",
    "def sign(x):\n",
    "    if x > 0:\n",
    "        return 'positive'\n",
    "    elif x < 0:\n",
    "        return 'negative'\n",
    "    else:\n",
    "        return 'zero'\n",
    "    \n",
    "for x in[-1, 0, 1]:\n",
    "    print(sign(x))"
   ]
  },
  {
   "cell_type": "code",
   "execution_count": 15,
   "metadata": {},
   "outputs": [
    {
     "name": "stdout",
     "output_type": "stream",
     "text": [
      "Hello, Bob\n",
      "HELLO, FRED!\n"
     ]
    }
   ],
   "source": [
    "#펑션(Function) 2\n",
    "def hello(name, loud=False): #loud 는 메소드 오버라이딩\n",
    "    if loud:\n",
    "        print('HELLO, %s!' % name.upper())\n",
    "    else:\n",
    "        print('Hello, %s' % name)\n",
    "    \n",
    "hello('Bob')\n",
    "hello('Fred', loud=True)"
   ]
  },
  {
   "cell_type": "code",
   "execution_count": 19,
   "metadata": {},
   "outputs": [
    {
     "name": "stdout",
     "output_type": "stream",
     "text": [
      "Hello, Fred\n",
      "HELLO, FRED!\n"
     ]
    }
   ],
   "source": [
    "#Class\n",
    "class Greeter(object):\n",
    "    \n",
    "    #생성자 생성\n",
    "    def __init__(self, name): # self는 this와 같음\n",
    "        self.name = name\n",
    "    \n",
    "    #메소드 \n",
    "    def greet(self, loud=False):\n",
    "        if loud:\n",
    "            print('HELLO, %s!' % self.name.upper())\n",
    "        else:\n",
    "            print('Hello, %s' % self.name)\n",
    "        \n",
    "g = Greeter('Fred') # Greeter클레스의 인자에 Fred 입력\n",
    "g.greet()\n",
    "g.greet(loud = True)"
   ]
  },
  {
   "cell_type": "code",
   "execution_count": null,
   "metadata": {},
   "outputs": [],
   "source": []
  }
 ],
 "metadata": {
  "kernelspec": {
   "display_name": "Python 3",
   "language": "python",
   "name": "python3"
  },
  "language_info": {
   "codemirror_mode": {
    "name": "ipython",
    "version": 3
   },
   "file_extension": ".py",
   "mimetype": "text/x-python",
   "name": "python",
   "nbconvert_exporter": "python",
   "pygments_lexer": "ipython3",
   "version": "3.7.6"
  }
 },
 "nbformat": 4,
 "nbformat_minor": 4
}
